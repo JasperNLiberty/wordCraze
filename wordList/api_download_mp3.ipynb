{
 "cells": [
  {
   "cell_type": "code",
   "execution_count": 2,
   "metadata": {
    "collapsed": true
   },
   "outputs": [],
   "source": [
    "import json\n",
    "from time import sleep\n",
    "import requests\n",
    "\n",
    "from tqdm import tqdm_notebook\n",
    "\n",
    "with open('wordList.txt', 'r') as f:\n",
    "    content = f.read()\n",
    "\n",
    "wordList = content.split('\\n')\n",
    "\n",
    "# wordList = [\"epistemic\", \"eldritch\", \"geriatric\", \"podiatric\", \"slew\"]\n",
    "# wordList = [\"podiatric\"]\n",
    "\n",
    "zeroStatus = [0] * len(wordList)\n",
    "\n",
    "requestStatus = dict(zip(wordList, zeroStatus))\n",
    "parseStatus = dict(zip(wordList, zeroStatus))\n",
    "downloadStatus = dict(zip(wordList, zeroStatus))"
   ]
  },
  {
   "cell_type": "code",
   "execution_count": null,
   "metadata": {
    "collapsed": true
   },
   "outputs": [],
   "source": []
  },
  {
   "cell_type": "code",
   "execution_count": null,
   "metadata": {
    "collapsed": false
   },
   "outputs": [
    {
     "name": "stdout",
     "output_type": "stream",
     "text": [
      "circumstances request error\n",
      "derived request error\n",
      "proceeding request error\n",
      "imposed request error\n",
      "recovering request error\n",
      "ranging request error\n",
      "constrained request error\n",
      "auspices request error\n",
      "diversified request error\n",
      "blighted request error\n",
      "aggrieve audio file not found\n",
      "machination audio file not found\n",
      "expostulation audio file not found\n"
     ]
    }
   ],
   "source": [
    "for wordid in tqdm_notebook(wordList):\n",
    "\n",
    "    sleep(1)\n",
    "    url = \"https://od-api.oxforddictionaries.com:443/api/v1/entries/en/\" + wordid + \"/pronunciations;regions=us\"\n",
    "    appid = \"e28c1363\"\n",
    "    appkey = \"1b7bf2d9b08c9a6de6f1041bd2131cfe\"\n",
    "\n",
    "    try:\n",
    "        # request\n",
    "        r = requests.get(url, headers = {'app_id': appid, 'app_key': appkey})\n",
    "        if r.status_code == 200:\n",
    "            requestStatus[wordid] = 1\n",
    "        else:\n",
    "            print(wordid + \" request error\")\n",
    "        result = json.loads(r.text)\n",
    "\n",
    "        # find mp3_url\n",
    "        mp3_url = \"\"\n",
    "        try:\n",
    "            proList = result[\"results\"][0][\"lexicalEntries\"][0][\"pronunciations\"]\n",
    "        except:\n",
    "            proList = result[\"results\"][0][\"lexicalEntries\"][1][\"pronunciations\"]\n",
    "\n",
    "        for p in range(len(proList)):\n",
    "            try:\n",
    "                mp3_url = proList[p][\"audioFile\"]\n",
    "                break\n",
    "            except:\n",
    "                pass\n",
    "        if mp3_url != \"\":\n",
    "            parseStatus[wordid] = 1\n",
    "        else:\n",
    "            print(wordid + \" audio file not found\")\n",
    "            continue # try next word in wordList\n",
    "\n",
    "        # download mp3 file and rename\n",
    "        mp3_r = requests.get(mp3_url)\n",
    "\n",
    "        if mp3_r.status_code == 200:\n",
    "            downloadStatus[wordid] = 1\n",
    "        else:\n",
    "            print(wordid + \" audio file download error\")\n",
    "\n",
    "        open(\"./wordCrazeSoundFiles/\"+wordid+\".mp3\", \"wb\").write(mp3_r.content)\n",
    "    except:\n",
    "        continue"
   ]
  }
 ],
 "metadata": {
  "kernelspec": {
   "display_name": "Python 2",
   "language": "python",
   "name": "python2"
  },
  "language_info": {
   "codemirror_mode": {
    "name": "ipython",
    "version": 2
   },
   "file_extension": ".py",
   "mimetype": "text/x-python",
   "name": "python",
   "nbconvert_exporter": "python",
   "pygments_lexer": "ipython2",
   "version": "2.7.13"
  }
 },
 "nbformat": 4,
 "nbformat_minor": 2
}
