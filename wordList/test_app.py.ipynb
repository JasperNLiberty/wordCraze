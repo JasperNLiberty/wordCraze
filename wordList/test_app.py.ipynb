{
 "cells": [
  {
   "cell_type": "code",
   "execution_count": 15,
   "metadata": {
    "collapsed": true
   },
   "outputs": [],
   "source": [
    "import numpy as np"
   ]
  },
  {
   "cell_type": "code",
   "execution_count": 27,
   "metadata": {
    "collapsed": false
   },
   "outputs": [
    {
     "data": {
      "text/plain": [
       "140"
      ]
     },
     "execution_count": 27,
     "metadata": {},
     "output_type": "execute_result"
    }
   ],
   "source": [
    "np.random.randint()"
   ]
  },
  {
   "cell_type": "code",
   "execution_count": 30,
   "metadata": {
    "collapsed": false
   },
   "outputs": [
    {
     "name": "stdout",
     "output_type": "stream",
     "text": [
      "<!DOCTYPE HTML PUBLIC \"-//W3C//DTD HTML 4.01 Transitional//EN\"\n",
      "  \"http://www.w3.org/TR/html4/loose.dtd\">\n",
      "<html>\n",
      "  <head>\n",
      "    <title>TypeError: cannot concatenate 'str' and 'int' objects // Werkzeug Debugger</title>\n",
      "    <link rel=\"stylesheet\" href=\"?__debugger__=yes&amp;cmd=resource&amp;f=style.css\"\n",
      "        type=\"text/css\">\n",
      "    <!-- We need to make sure this has a favicon so that the debugger does\n",
      "         not by accident trigger a request to /favicon.ico which might\n",
      "         change the application state. -->\n",
      "    <link rel=\"shortcut icon\"\n",
      "        href=\"?__debugger__=yes&amp;cmd=resource&amp;f=console.png\">\n",
      "    <script src=\"?__debugger__=yes&amp;cmd=resource&amp;f=jquery.js\"></script>\n",
      "    <script src=\"?__debugger__=yes&amp;cmd=resource&amp;f=debugger.js\"></script>\n",
      "    <script type=\"text/javascript\">\n",
      "      var TRACEBACK = 4451056080,\n",
      "          CONSOLE_MODE = false,\n",
      "          EVALEX = true,\n",
      "          EVALEX_TRUSTED = false,\n",
      "          SECRET = \"ww3qNlOzV11OyPnbhxCl\";\n",
      "    </script>\n",
      "  </head>\n",
      "  <body style=\"background-color: #fff\">\n",
      "    <div class=\"debugger\">\n",
      "<h1>TypeError</h1>\n",
      "<div class=\"detail\">\n",
      "  <p class=\"errormsg\">TypeError: cannot concatenate 'str' and 'int' objects</p>\n",
      "</div>\n",
      "<h2 class=\"traceback\">Traceback <em>(most recent call last)</em></h2>\n",
      "<div class=\"traceback\">\n",
      "  \n",
      "  <ul><li><div class=\"frame\" id=\"frame-4451055888\">\n",
      "  <h4>File <cite class=\"filename\">\"/Users/NoSlack/anaconda/lib/python2.7/site-packages/flask/app.py\"</cite>,\n",
      "      line <em class=\"line\">1994</em>,\n",
      "      in <code class=\"function\">__call__</code></h4>\n",
      "  <div class=\"source\"><pre class=\"line before\"><span class=\"ws\">                </span>error = None</pre>\n",
      "<pre class=\"line before\"><span class=\"ws\">            </span>ctx.auto_pop(error)</pre>\n",
      "<pre class=\"line before\"><span class=\"ws\"></span> </pre>\n",
      "<pre class=\"line before\"><span class=\"ws\">    </span>def __call__(self, environ, start_response):</pre>\n",
      "<pre class=\"line before\"><span class=\"ws\">        </span>&quot;&quot;&quot;Shortcut for :attr:`wsgi_app`.&quot;&quot;&quot;</pre>\n",
      "<pre class=\"line current\"><span class=\"ws\">        </span>return self.wsgi_app(environ, start_response)</pre>\n",
      "<pre class=\"line after\"><span class=\"ws\"></span> </pre>\n",
      "<pre class=\"line after\"><span class=\"ws\">    </span>def __repr__(self):</pre>\n",
      "<pre class=\"line after\"><span class=\"ws\">        </span>return '&lt;%s %r&gt;' % (</pre>\n",
      "<pre class=\"line after\"><span class=\"ws\">            </span>self.__class__.__name__,</pre>\n",
      "<pre class=\"line after\"><span class=\"ws\">            </span>self.name,</pre></div>\n",
      "</div>\n",
      "\n",
      "<li><div class=\"frame\" id=\"frame-4451123344\">\n",
      "  <h4>File <cite class=\"filename\">\"/Users/NoSlack/anaconda/lib/python2.7/site-packages/flask/app.py\"</cite>,\n",
      "      line <em class=\"line\">1985</em>,\n",
      "      in <code class=\"function\">wsgi_app</code></h4>\n",
      "  <div class=\"source\"><pre class=\"line before\"><span class=\"ws\">        </span>try:</pre>\n",
      "<pre class=\"line before\"><span class=\"ws\">            </span>try:</pre>\n",
      "<pre class=\"line before\"><span class=\"ws\">                </span>response = self.full_dispatch_request()</pre>\n",
      "<pre class=\"line before\"><span class=\"ws\">            </span>except Exception as e:</pre>\n",
      "<pre class=\"line before\"><span class=\"ws\">                </span>error = e</pre>\n",
      "<pre class=\"line current\"><span class=\"ws\">                </span>response = self.handle_exception(e)</pre>\n",
      "<pre class=\"line after\"><span class=\"ws\">            </span>return response(environ, start_response)</pre>\n",
      "<pre class=\"line after\"><span class=\"ws\">        </span>finally:</pre>\n",
      "<pre class=\"line after\"><span class=\"ws\">            </span>if self.should_ignore_error(error):</pre>\n",
      "<pre class=\"line after\"><span class=\"ws\">                </span>error = None</pre>\n",
      "<pre class=\"line after\"><span class=\"ws\">            </span>ctx.auto_pop(error)</pre></div>\n",
      "</div>\n",
      "\n",
      "<li><div class=\"frame\" id=\"frame-4451123408\">\n",
      "  <h4>File <cite class=\"filename\">\"/Users/NoSlack/anaconda/lib/python2.7/site-packages/flask/app.py\"</cite>,\n",
      "      line <em class=\"line\">1540</em>,\n",
      "      in <code class=\"function\">handle_exception</code></h4>\n",
      "  <div class=\"source\"><pre class=\"line before\"><span class=\"ws\">            </span># if we want to repropagate the exception, we can attempt to</pre>\n",
      "<pre class=\"line before\"><span class=\"ws\">            </span># raise it with the whole traceback in case we can do that</pre>\n",
      "<pre class=\"line before\"><span class=\"ws\">            </span># (the function was actually called from the except part)</pre>\n",
      "<pre class=\"line before\"><span class=\"ws\">            </span># otherwise, we just raise the error again</pre>\n",
      "<pre class=\"line before\"><span class=\"ws\">            </span>if exc_value is e:</pre>\n",
      "<pre class=\"line current\"><span class=\"ws\">                </span>reraise(exc_type, exc_value, tb)</pre>\n",
      "<pre class=\"line after\"><span class=\"ws\">            </span>else:</pre>\n",
      "<pre class=\"line after\"><span class=\"ws\">                </span>raise e</pre>\n",
      "<pre class=\"line after\"><span class=\"ws\"></span> </pre>\n",
      "<pre class=\"line after\"><span class=\"ws\">        </span>self.log_exception((exc_type, exc_value, tb))</pre>\n",
      "<pre class=\"line after\"><span class=\"ws\">        </span>if handler is None:</pre></div>\n",
      "</div>\n",
      "\n",
      "<li><div class=\"frame\" id=\"frame-4451123472\">\n",
      "  <h4>File <cite class=\"filename\">\"/Users/NoSlack/anaconda/lib/python2.7/site-packages/flask/app.py\"</cite>,\n",
      "      line <em class=\"line\">1982</em>,\n",
      "      in <code class=\"function\">wsgi_app</code></h4>\n",
      "  <div class=\"source\"><pre class=\"line before\"><span class=\"ws\">        </span>ctx = self.request_context(environ)</pre>\n",
      "<pre class=\"line before\"><span class=\"ws\">        </span>ctx.push()</pre>\n",
      "<pre class=\"line before\"><span class=\"ws\">        </span>error = None</pre>\n",
      "<pre class=\"line before\"><span class=\"ws\">        </span>try:</pre>\n",
      "<pre class=\"line before\"><span class=\"ws\">            </span>try:</pre>\n",
      "<pre class=\"line current\"><span class=\"ws\">                </span>response = self.full_dispatch_request()</pre>\n",
      "<pre class=\"line after\"><span class=\"ws\">            </span>except Exception as e:</pre>\n",
      "<pre class=\"line after\"><span class=\"ws\">                </span>error = e</pre>\n",
      "<pre class=\"line after\"><span class=\"ws\">                </span>response = self.handle_exception(e)</pre>\n",
      "<pre class=\"line after\"><span class=\"ws\">            </span>return response(environ, start_response)</pre>\n",
      "<pre class=\"line after\"><span class=\"ws\">        </span>finally:</pre></div>\n",
      "</div>\n",
      "\n",
      "<li><div class=\"frame\" id=\"frame-4451123536\">\n",
      "  <h4>File <cite class=\"filename\">\"/Users/NoSlack/anaconda/lib/python2.7/site-packages/flask/app.py\"</cite>,\n",
      "      line <em class=\"line\">1614</em>,\n",
      "      in <code class=\"function\">full_dispatch_request</code></h4>\n",
      "  <div class=\"source\"><pre class=\"line before\"><span class=\"ws\">            </span>request_started.send(self)</pre>\n",
      "<pre class=\"line before\"><span class=\"ws\">            </span>rv = self.preprocess_request()</pre>\n",
      "<pre class=\"line before\"><span class=\"ws\">            </span>if rv is None:</pre>\n",
      "<pre class=\"line before\"><span class=\"ws\">                </span>rv = self.dispatch_request()</pre>\n",
      "<pre class=\"line before\"><span class=\"ws\">        </span>except Exception as e:</pre>\n",
      "<pre class=\"line current\"><span class=\"ws\">            </span>rv = self.handle_user_exception(e)</pre>\n",
      "<pre class=\"line after\"><span class=\"ws\">        </span>return self.finalize_request(rv)</pre>\n",
      "<pre class=\"line after\"><span class=\"ws\"></span> </pre>\n",
      "<pre class=\"line after\"><span class=\"ws\">    </span>def finalize_request(self, rv, from_error_handler=False):</pre>\n",
      "<pre class=\"line after\"><span class=\"ws\">        </span>&quot;&quot;&quot;Given the return value from a view function this finalizes</pre>\n",
      "<pre class=\"line after\"><span class=\"ws\">        </span>the request by converting it into a response and invoking the</pre></div>\n",
      "</div>\n",
      "\n",
      "<li><div class=\"frame\" id=\"frame-4451123600\">\n",
      "  <h4>File <cite class=\"filename\">\"/Users/NoSlack/anaconda/lib/python2.7/site-packages/flask/app.py\"</cite>,\n",
      "      line <em class=\"line\">1517</em>,\n",
      "      in <code class=\"function\">handle_user_exception</code></h4>\n",
      "  <div class=\"source\"><pre class=\"line before\"><span class=\"ws\">            </span>return self.handle_http_exception(e)</pre>\n",
      "<pre class=\"line before\"><span class=\"ws\"></span> </pre>\n",
      "<pre class=\"line before\"><span class=\"ws\">        </span>handler = self._find_error_handler(e)</pre>\n",
      "<pre class=\"line before\"><span class=\"ws\"></span> </pre>\n",
      "<pre class=\"line before\"><span class=\"ws\">        </span>if handler is None:</pre>\n",
      "<pre class=\"line current\"><span class=\"ws\">            </span>reraise(exc_type, exc_value, tb)</pre>\n",
      "<pre class=\"line after\"><span class=\"ws\">        </span>return handler(e)</pre>\n",
      "<pre class=\"line after\"><span class=\"ws\"></span> </pre>\n",
      "<pre class=\"line after\"><span class=\"ws\">    </span>def handle_exception(self, e):</pre>\n",
      "<pre class=\"line after\"><span class=\"ws\">        </span>&quot;&quot;&quot;Default exception handling that kicks in when an exception</pre>\n",
      "<pre class=\"line after\"><span class=\"ws\">        </span>occurs that is not caught.  In debug mode the exception will</pre></div>\n",
      "</div>\n",
      "\n",
      "<li><div class=\"frame\" id=\"frame-4451123664\">\n",
      "  <h4>File <cite class=\"filename\">\"/Users/NoSlack/anaconda/lib/python2.7/site-packages/flask/app.py\"</cite>,\n",
      "      line <em class=\"line\">1612</em>,\n",
      "      in <code class=\"function\">full_dispatch_request</code></h4>\n",
      "  <div class=\"source\"><pre class=\"line before\"><span class=\"ws\">        </span>self.try_trigger_before_first_request_functions()</pre>\n",
      "<pre class=\"line before\"><span class=\"ws\">        </span>try:</pre>\n",
      "<pre class=\"line before\"><span class=\"ws\">            </span>request_started.send(self)</pre>\n",
      "<pre class=\"line before\"><span class=\"ws\">            </span>rv = self.preprocess_request()</pre>\n",
      "<pre class=\"line before\"><span class=\"ws\">            </span>if rv is None:</pre>\n",
      "<pre class=\"line current\"><span class=\"ws\">                </span>rv = self.dispatch_request()</pre>\n",
      "<pre class=\"line after\"><span class=\"ws\">        </span>except Exception as e:</pre>\n",
      "<pre class=\"line after\"><span class=\"ws\">            </span>rv = self.handle_user_exception(e)</pre>\n",
      "<pre class=\"line after\"><span class=\"ws\">        </span>return self.finalize_request(rv)</pre>\n",
      "<pre class=\"line after\"><span class=\"ws\"></span> </pre>\n",
      "<pre class=\"line after\"><span class=\"ws\">    </span>def finalize_request(self, rv, from_error_handler=False):</pre></div>\n",
      "</div>\n",
      "\n",
      "<li><div class=\"frame\" id=\"frame-4451123728\">\n",
      "  <h4>File <cite class=\"filename\">\"/Users/NoSlack/anaconda/lib/python2.7/site-packages/flask/app.py\"</cite>,\n",
      "      line <em class=\"line\">1598</em>,\n",
      "      in <code class=\"function\">dispatch_request</code></h4>\n",
      "  <div class=\"source\"><pre class=\"line before\"><span class=\"ws\">        </span># request came with the OPTIONS method, reply automatically</pre>\n",
      "<pre class=\"line before\"><span class=\"ws\">        </span>if getattr(rule, 'provide_automatic_options', False) \\</pre>\n",
      "<pre class=\"line before\"><span class=\"ws\">           </span>and req.method == 'OPTIONS':</pre>\n",
      "<pre class=\"line before\"><span class=\"ws\">            </span>return self.make_default_options_response()</pre>\n",
      "<pre class=\"line before\"><span class=\"ws\">        </span># otherwise dispatch to the handler for that endpoint</pre>\n",
      "<pre class=\"line current\"><span class=\"ws\">        </span>return self.view_functions[rule.endpoint](**req.view_args)</pre>\n",
      "<pre class=\"line after\"><span class=\"ws\"></span> </pre>\n",
      "<pre class=\"line after\"><span class=\"ws\">    </span>def full_dispatch_request(self):</pre>\n",
      "<pre class=\"line after\"><span class=\"ws\">        </span>&quot;&quot;&quot;Dispatches the request and on top of that performs request</pre>\n",
      "<pre class=\"line after\"><span class=\"ws\">        </span>pre and postprocessing as well as HTTP exception catching and</pre>\n",
      "<pre class=\"line after\"><span class=\"ws\">        </span>error handling.</pre></div>\n",
      "</div>\n",
      "\n",
      "<li><div class=\"frame\" id=\"frame-4451123792\">\n",
      "  <h4>File <cite class=\"filename\">\"/Users/NoSlack/Applications/wordCraze/wordList/hostMp3.py\"</cite>,\n",
      "      line <em class=\"line\">19</em>,\n",
      "      in <code class=\"function\">sendList</code></h4>\n",
      "  <div class=\"source\"><pre class=\"line before\"><span class=\"ws\">    </span>files = glob.glob(os.getcwd()+'/static/*.mp3')</pre>\n",
      "<pre class=\"line before\"><span class=\"ws\">    </span>nFiles = len(files)</pre>\n",
      "<pre class=\"line before\"><span class=\"ws\">    </span>rNum = np.random.randint(nFiles)</pre>\n",
      "<pre class=\"line before\"><span class=\"ws\">    </span>mp3file = files[rNum]</pre>\n",
      "<pre class=\"line before\"><span class=\"ws\">    </span>mp3fileBasename = os.path.basename(mp3file)</pre>\n",
      "<pre class=\"line current\"><span class=\"ws\">    </span>return 'http://'+hostIP+':'+hostPort+'/static/'+mp3fileBasename</pre>\n",
      "<pre class=\"line after\"><span class=\"ws\"></span> </pre>\n",
      "<pre class=\"line after\"><span class=\"ws\"></span>if __name__ == &quot;__main__&quot;:</pre>\n",
      "<pre class=\"line after\"><span class=\"ws\">    </span>app.run(host=hostIP, debug=True, port=hostPort)</pre></div>\n",
      "</div>\n",
      "</ul>\n",
      "  <blockquote>TypeError: cannot concatenate 'str' and 'int' objects</blockquote>\n",
      "</div>\n",
      "\n",
      "<div class=\"plain\">\n",
      "  <form action=\"/?__debugger__=yes&amp;cmd=paste\" method=\"post\">\n",
      "    <p>\n",
      "      <input type=\"hidden\" name=\"language\" value=\"pytb\">\n",
      "      This is the Copy/Paste friendly version of the traceback.  <span\n",
      "      class=\"pastemessage\">You can also paste this traceback into\n",
      "      a <a href=\"https://gist.github.com/\">gist</a>:\n",
      "      <input type=\"submit\" value=\"create paste\"></span>\n",
      "    </p>\n",
      "    <textarea cols=\"50\" rows=\"10\" name=\"code\" readonly>Traceback (most recent call last):\n",
      "  File &quot;/Users/NoSlack/anaconda/lib/python2.7/site-packages/flask/app.py&quot;, line 1994, in __call__\n",
      "    return self.wsgi_app(environ, start_response)\n",
      "  File &quot;/Users/NoSlack/anaconda/lib/python2.7/site-packages/flask/app.py&quot;, line 1985, in wsgi_app\n",
      "    response = self.handle_exception(e)\n",
      "  File &quot;/Users/NoSlack/anaconda/lib/python2.7/site-packages/flask/app.py&quot;, line 1540, in handle_exception\n",
      "    reraise(exc_type, exc_value, tb)\n",
      "  File &quot;/Users/NoSlack/anaconda/lib/python2.7/site-packages/flask/app.py&quot;, line 1982, in wsgi_app\n",
      "    response = self.full_dispatch_request()\n",
      "  File &quot;/Users/NoSlack/anaconda/lib/python2.7/site-packages/flask/app.py&quot;, line 1614, in full_dispatch_request\n",
      "    rv = self.handle_user_exception(e)\n",
      "  File &quot;/Users/NoSlack/anaconda/lib/python2.7/site-packages/flask/app.py&quot;, line 1517, in handle_user_exception\n",
      "    reraise(exc_type, exc_value, tb)\n",
      "  File &quot;/Users/NoSlack/anaconda/lib/python2.7/site-packages/flask/app.py&quot;, line 1612, in full_dispatch_request\n",
      "    rv = self.dispatch_request()\n",
      "  File &quot;/Users/NoSlack/anaconda/lib/python2.7/site-packages/flask/app.py&quot;, line 1598, in dispatch_request\n",
      "    return self.view_functions[rule.endpoint](**req.view_args)\n",
      "  File &quot;/Users/NoSlack/Applications/wordCraze/wordList/hostMp3.py&quot;, line 19, in sendList\n",
      "    return 'http://'+hostIP+':'+hostPort+'/static/'+mp3fileBasename\n",
      "TypeError: cannot concatenate 'str' and 'int' objects</textarea>\n",
      "  </form>\n",
      "</div>\n",
      "<div class=\"explanation\">\n",
      "  The debugger caught an exception in your WSGI application.  You can now\n",
      "  look at the traceback which led to the error.  <span class=\"nojavascript\">\n",
      "  If you enable JavaScript you can also use additional features such as code\n",
      "  execution (if the evalex feature is enabled), automatic pasting of the\n",
      "  exceptions and much more.</span>\n",
      "</div>\n",
      "      <div class=\"footer\">\n",
      "        Brought to you by <strong class=\"arthur\">DON'T PANIC</strong>, your\n",
      "        friendly Werkzeug powered traceback interpreter.\n",
      "      </div>\n",
      "    </div>\n",
      "\n",
      "    <div class=\"pin-prompt\">\n",
      "      <div class=\"inner\">\n",
      "        <h3>Console Locked</h3>\n",
      "        <p>\n",
      "          The console is locked and needs to be unlocked by entering the PIN.\n",
      "          You can find the PIN printed out on the standard output of your\n",
      "          shell that runs the server.\n",
      "        <form>\n",
      "          <p>PIN:\n",
      "            <input type=text name=pin size=14>\n",
      "            <input type=submit name=btn value=\"Confirm Pin\">\n",
      "        </form>\n",
      "      </div>\n",
      "    </div>\n",
      "  </body>\n",
      "</html>\n",
      "\n",
      "<!--\n",
      "\n",
      "Traceback (most recent call last):\n",
      "  File \"/Users/NoSlack/anaconda/lib/python2.7/site-packages/flask/app.py\", line 1994, in __call__\n",
      "    return self.wsgi_app(environ, start_response)\n",
      "  File \"/Users/NoSlack/anaconda/lib/python2.7/site-packages/flask/app.py\", line 1985, in wsgi_app\n",
      "    response = self.handle_exception(e)\n",
      "  File \"/Users/NoSlack/anaconda/lib/python2.7/site-packages/flask/app.py\", line 1540, in handle_exception\n",
      "    reraise(exc_type, exc_value, tb)\n",
      "  File \"/Users/NoSlack/anaconda/lib/python2.7/site-packages/flask/app.py\", line 1982, in wsgi_app\n",
      "    response = self.full_dispatch_request()\n",
      "  File \"/Users/NoSlack/anaconda/lib/python2.7/site-packages/flask/app.py\", line 1614, in full_dispatch_request\n",
      "    rv = self.handle_user_exception(e)\n",
      "  File \"/Users/NoSlack/anaconda/lib/python2.7/site-packages/flask/app.py\", line 1517, in handle_user_exception\n",
      "    reraise(exc_type, exc_value, tb)\n",
      "  File \"/Users/NoSlack/anaconda/lib/python2.7/site-packages/flask/app.py\", line 1612, in full_dispatch_request\n",
      "    rv = self.dispatch_request()\n",
      "  File \"/Users/NoSlack/anaconda/lib/python2.7/site-packages/flask/app.py\", line 1598, in dispatch_request\n",
      "    return self.view_functions[rule.endpoint](**req.view_args)\n",
      "  File \"/Users/NoSlack/Applications/wordCraze/wordList/hostMp3.py\", line 19, in sendList\n",
      "    return 'http://'+hostIP+':'+hostPort+'/static/'+mp3fileBasename\n",
      "TypeError: cannot concatenate 'str' and 'int' objects\n",
      "\n",
      "-->\n",
      "\n"
     ]
    },
    {
     "data": {
      "text/plain": [
       "980"
      ]
     },
     "execution_count": 30,
     "metadata": {},
     "output_type": "execute_result"
    }
   ],
   "source": [
    "import os\n",
    "\n",
    "import glob\n",
    "\n",
    "import requests\n",
    "\n",
    "url = \"http://0.0.0.0:7000/sendList\"\n",
    "resp= requests.get(url)\n",
    "print(resp.text)\n",
    "files = glob.glob(os.getcwd()+'/static/*.mp3')\n",
    "len(files)"
   ]
  },
  {
   "cell_type": "code",
   "execution_count": 29,
   "metadata": {
    "collapsed": false
   },
   "outputs": [],
   "source": [
    "mp3file = files[789]"
   ]
  },
  {
   "cell_type": "code",
   "execution_count": 13,
   "metadata": {
    "collapsed": false
   },
   "outputs": [
    {
     "data": {
      "text/plain": [
       "'/Users/NoSlack/Applications/wordCraze/wordList/static/veracious.mp3'"
      ]
     },
     "execution_count": 13,
     "metadata": {},
     "output_type": "execute_result"
    }
   ],
   "source": [
    "mp3file"
   ]
  },
  {
   "cell_type": "code",
   "execution_count": 14,
   "metadata": {
    "collapsed": false
   },
   "outputs": [
    {
     "data": {
      "text/plain": [
       "'veracious.mp3'"
      ]
     },
     "execution_count": 14,
     "metadata": {},
     "output_type": "execute_result"
    }
   ],
   "source": [
    "os.path.basename(mp3file)"
   ]
  },
  {
   "cell_type": "code",
   "execution_count": null,
   "metadata": {
    "collapsed": true
   },
   "outputs": [],
   "source": []
  }
 ],
 "metadata": {
  "anaconda-cloud": {},
  "kernelspec": {
   "display_name": "Python 2",
   "language": "python",
   "name": "python2"
  },
  "language_info": {
   "codemirror_mode": {
    "name": "ipython",
    "version": 2
   },
   "file_extension": ".py",
   "mimetype": "text/x-python",
   "name": "python",
   "nbconvert_exporter": "python",
   "pygments_lexer": "ipython2",
   "version": "2.7.13"
  }
 },
 "nbformat": 4,
 "nbformat_minor": 0
}
