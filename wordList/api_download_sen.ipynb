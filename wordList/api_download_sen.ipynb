{
 "cells": [
  {
   "cell_type": "code",
   "execution_count": 1,
   "metadata": {
    "collapsed": true
   },
   "outputs": [],
   "source": [
    "import json\n",
    "from time import sleep\n",
    "import requests\n",
    "\n",
    "from tqdm import tqdm_notebook\n",
    "\n",
    "with open('wordList.txt', 'r') as f:\n",
    "    content = f.read()\n",
    "\n",
    "wordList = content.split('\\n')\n",
    "\n",
    "# wordList = [\"epistemic\", \"eldritch\", \"geriatric\", \"podiatric\", \"slew\"]\n",
    "# wordList = [\"podiatric\"]\n",
    "\n",
    "zeroStatus = [0] * len(wordList)\n",
    "\n",
    "requestStatus = dict(zip(wordList, zeroStatus))\n",
    "parseStatus = dict(zip(wordList, zeroStatus))\n",
    "downloadStatus = dict(zip(wordList, zeroStatus))"
   ]
  },
  {
   "cell_type": "code",
   "execution_count": 2,
   "metadata": {
    "collapsed": true
   },
   "outputs": [],
   "source": [
    "from pymongo import MongoClient"
   ]
  },
  {
   "cell_type": "code",
   "execution_count": 3,
   "metadata": {
    "collapsed": true
   },
   "outputs": [],
   "source": [
    "client = MongoClient()"
   ]
  },
  {
   "cell_type": "code",
   "execution_count": 27,
   "metadata": {
    "collapsed": false
   },
   "outputs": [
    {
     "data": {
      "text/plain": [
       "[u'admin', u'config', u'local', u'test']"
      ]
     },
     "execution_count": 27,
     "metadata": {},
     "output_type": "execute_result"
    }
   ],
   "source": [
    "client.database_names()"
   ]
  },
  {
   "cell_type": "code",
   "execution_count": 29,
   "metadata": {
    "collapsed": false
   },
   "outputs": [
    {
     "data": {
      "text/plain": [
       "[u'restaurants']"
      ]
     },
     "execution_count": 29,
     "metadata": {},
     "output_type": "execute_result"
    }
   ],
   "source": [
    "client.test.collection_names()"
   ]
  },
  {
   "cell_type": "code",
   "execution_count": 30,
   "metadata": {
    "collapsed": false
   },
   "outputs": [
    {
     "data": {
      "text/plain": [
       "Collection(Database(MongoClient(host=['localhost:27017'], document_class=dict, tz_aware=False, connect=True), u'test'), u'restaurants')"
      ]
     },
     "execution_count": 30,
     "metadata": {},
     "output_type": "execute_result"
    }
   ],
   "source": [
    "client.test[u'restaurants']"
   ]
  },
  {
   "cell_type": "code",
   "execution_count": 33,
   "metadata": {
    "collapsed": false
   },
   "outputs": [],
   "source": [
    "cursor = client.test[u'restaurants'].find({})"
   ]
  },
  {
   "cell_type": "code",
   "execution_count": 34,
   "metadata": {
    "collapsed": false
   },
   "outputs": [
    {
     "name": "stdout",
     "output_type": "stream",
     "text": [
      "{u'cuisine': u'Italian', u'borough': u'Manhattan', u'name': u'Vella', u'restaurant_id': u'41704620', u'grades': [{u'date': datetime.datetime(2014, 10, 1, 0, 0), u'grade': u'A', u'score': 11}, {u'date': datetime.datetime(2014, 1, 16, 0, 0), u'grade': u'B', u'score': 17}], u'address': {u'building': u'1480', u'street': u'2 Avenue', u'zipcode': u'10075', u'coord': [-73.9557413, 40.7720266]}, u'_id': ObjectId('5a92212cc527d55b75632125')}\n",
      "{u'cuisine': u'Italian', u'borough': u'Manhattan', u'name': u'Vella', u'restaurant_id': u'41704620', u'grades': [{u'date': datetime.datetime(2014, 10, 1, 0, 0), u'grade': u'A', u'score': 11}, {u'date': datetime.datetime(2014, 1, 16, 0, 0), u'grade': u'B', u'score': 17}], u'address': {u'building': u'1480', u'street': u'2 Avenue', u'zipcode': u'10075', u'coord': [-73.9557413, 40.7720266]}, u'_id': ObjectId('5a92212ec527d55b75632126')}\n",
      "{u'cuisine': u'Italian', u'borough': u'Manhattan', u'name': u'Vella', u'restaurant_id': u'41704620', u'grades': [{u'date': datetime.datetime(2014, 10, 1, 0, 0), u'grade': u'A', u'score': 11}, {u'date': datetime.datetime(2014, 1, 16, 0, 0), u'grade': u'B', u'score': 17}], u'address': {u'building': u'1480', u'street': u'2 Avenue', u'zipcode': u'10075', u'coord': [-73.9557413, 40.7720266]}, u'_id': ObjectId('5a92242bc527d55b75632127')}\n"
     ]
    }
   ],
   "source": [
    "for doc in cursor:\n",
    "    print(doc)"
   ]
  },
  {
   "cell_type": "code",
   "execution_count": null,
   "metadata": {
    "collapsed": true
   },
   "outputs": [],
   "source": []
  },
  {
   "cell_type": "code",
   "execution_count": 8,
   "metadata": {
    "collapsed": true
   },
   "outputs": [],
   "source": [
    "db = client.test"
   ]
  },
  {
   "cell_type": "code",
   "execution_count": 15,
   "metadata": {
    "collapsed": false
   },
   "outputs": [
    {
     "data": {
      "text/plain": [
       "Collection(Database(MongoClient(host=['localhost:27017'], document_class=dict, tz_aware=False, connect=True), u'test'), u'dataset')"
      ]
     },
     "execution_count": 15,
     "metadata": {},
     "output_type": "execute_result"
    }
   ],
   "source": [
    "db.dataset"
   ]
  },
  {
   "cell_type": "code",
   "execution_count": 26,
   "metadata": {
    "collapsed": false
   },
   "outputs": [],
   "source": [
    "from datetime import datetime\n",
    "result = db.restaurants.insert_one(\n",
    "    {\n",
    "        \"address\": {\n",
    "            \"street\": \"2 Avenue\",\n",
    "            \"zipcode\": \"10075\",\n",
    "            \"building\": \"1480\",\n",
    "            \"coord\": [-73.9557413, 40.7720266]\n",
    "        },\n",
    "        \"borough\": \"Manhattan\",\n",
    "        \"cuisine\": \"Italian\",\n",
    "        \"grades\": [\n",
    "            {\n",
    "                \"date\": datetime.strptime(\"2014-10-01\", \"%Y-%m-%d\"),\n",
    "                \"grade\": \"A\",\n",
    "                \"score\": 11\n",
    "            },\n",
    "            {\n",
    "                \"date\": datetime.strptime(\"2014-01-16\", \"%Y-%m-%d\"),\n",
    "                \"grade\": \"B\",\n",
    "                \"score\": 17\n",
    "            }\n",
    "        ],\n",
    "        \"name\": \"Vella\",\n",
    "        \"restaurant_id\": \"41704620\"\n",
    "    }\n",
    ")"
   ]
  },
  {
   "cell_type": "code",
   "execution_count": null,
   "metadata": {
    "collapsed": true
   },
   "outputs": [],
   "source": []
  },
  {
   "cell_type": "code",
   "execution_count": null,
   "metadata": {
    "collapsed": true
   },
   "outputs": [],
   "source": []
  },
  {
   "cell_type": "code",
   "execution_count": null,
   "metadata": {
    "collapsed": true
   },
   "outputs": [],
   "source": []
  },
  {
   "cell_type": "code",
   "execution_count": null,
   "metadata": {
    "collapsed": true
   },
   "outputs": [],
   "source": [
    "word_id = wordList[34]\n",
    "\n",
    "appId = \"e28c1363\"\n",
    "\n",
    "appKey = \"1b7bf2d9b08c9a6de6f1041bd2131cfe\"\n",
    "\n",
    "url = \"https://od-api.oxforddictionaries.com:443/api/v1/entries/en/\" + word_id + \"/sentences\"\n",
    "\n",
    "r = requests.get(url, headers = {'app_id': appId, 'app_key': appKey})\n",
    "\n",
    "rJ = json.loads(r.content)"
   ]
  },
  {
   "cell_type": "code",
   "execution_count": 51,
   "metadata": {
    "collapsed": false
   },
   "outputs": [],
   "source": [
    "numSen = len(rJ[\"results\"][0][\"lexicalEntries\"][0][\"sentences\"])"
   ]
  },
  {
   "cell_type": "code",
   "execution_count": 65,
   "metadata": {
    "collapsed": true
   },
   "outputs": [],
   "source": [
    "senCol = []\n",
    "for senItem in rJ[\"results\"][0][\"lexicalEntries\"][0][\"sentences\"]:\n",
    "    senCol.append(senItem[\"text\"])"
   ]
  },
  {
   "cell_type": "code",
   "execution_count": 67,
   "metadata": {
    "collapsed": false
   },
   "outputs": [
    {
     "data": {
      "text/plain": [
       "<pymongo.results.InsertOneResult at 0x10bc7cfc8>"
      ]
     },
     "execution_count": 67,
     "metadata": {},
     "output_type": "execute_result"
    }
   ],
   "source": [
    "db.wordsTest.insert_one({\"wordId\": \"test\", \"exampleSens\": senCol})"
   ]
  },
  {
   "cell_type": "code",
   "execution_count": 83,
   "metadata": {
    "collapsed": false
   },
   "outputs": [
    {
     "data": {
      "text/plain": [
       "Collection(Database(MongoClient(host=['localhost:27017'], document_class=dict, tz_aware=False, connect=True), u'test'), u'wordsTest')"
      ]
     },
     "execution_count": 83,
     "metadata": {},
     "output_type": "execute_result"
    }
   ],
   "source": []
  },
  {
   "cell_type": "markdown",
   "metadata": {},
   "source": [
    "# check wordsTest"
   ]
  },
  {
   "cell_type": "code",
   "execution_count": 112,
   "metadata": {
    "collapsed": false
   },
   "outputs": [
    {
     "data": {
      "text/plain": [
       "'notwithstanding'"
      ]
     },
     "execution_count": 112,
     "metadata": {},
     "output_type": "execute_result"
    }
   ],
   "source": [
    "wordList[112]"
   ]
  },
  {
   "cell_type": "code",
   "execution_count": 132,
   "metadata": {
    "collapsed": false,
    "scrolled": true
   },
   "outputs": [
    {
     "name": "stdout",
     "output_type": "stream",
     "text": [
      "Imagine, apparently conclusive evidence to the contrary notwithstanding, that a very few gifted individuals are genuinely clairvoyant.\n"
     ]
    }
   ],
   "source": [
    "for doc in db.wordsTest3.find({\"wordId\":wordList[112]}):\n",
    "    print doc[\"exampleSens\"][8]"
   ]
  },
  {
   "cell_type": "code",
   "execution_count": 144,
   "metadata": {
    "collapsed": false
   },
   "outputs": [
    {
     "data": {
      "text/plain": [
       "[u'exampleSens', u'wordId', u'_id']"
      ]
     },
     "execution_count": 144,
     "metadata": {},
     "output_type": "execute_result"
    }
   ],
   "source": [
    "doc.keys()"
   ]
  },
  {
   "cell_type": "code",
   "execution_count": null,
   "metadata": {
    "collapsed": true
   },
   "outputs": [],
   "source": []
  },
  {
   "cell_type": "markdown",
   "metadata": {},
   "source": [
    "# download and save senCol in database"
   ]
  },
  {
   "cell_type": "code",
   "execution_count": 97,
   "metadata": {
    "collapsed": false
   },
   "outputs": [
    {
     "name": "stdout",
     "output_type": "stream",
     "text": [
      "error: practice\n",
      "\n",
      "error: practice\n",
      "error: practice\n",
      "error: practice\n",
      "error: practice\n",
      "error: practice\n",
      "error: practice\n",
      "error: practice\n",
      "error: practice\n",
      "error: practice\n",
      "error: practice\n",
      "error: practice\n",
      "error: practice\n",
      "error: practice\n",
      "error: practice\n",
      "error: practice\n",
      "error: practice\n",
      "error: practice\n"
     ]
    }
   ],
   "source": [
    "for word_id in tqdm_notebook(wordList[32:]):\n",
    "    try:\n",
    "        sleep(1)\n",
    "        url = \"https://od-api.oxforddictionaries.com:443/api/v1/entries/en/\" + word_id + \"/sentences\"\n",
    "        r = requests.get(url, headers = {'app_id': appId, 'app_key': appKey})\n",
    "        rJ = json.loads(r.content)\n",
    "        senCol = []\n",
    "        for senItem in rJ[\"results\"][0][\"lexicalEntries\"][0][\"sentences\"]:\n",
    "            senCol.append(senItem[\"text\"])\n",
    "        db.wordsTest3.insert_one({\"wordId\": word_id, \"exampleSens\": senCol})\n",
    "\n",
    "    except:\n",
    "        print \"error: \" + wordid\n",
    "        continue"
   ]
  },
  {
   "cell_type": "code",
   "execution_count": null,
   "metadata": {
    "collapsed": true
   },
   "outputs": [],
   "source": []
  },
  {
   "cell_type": "code",
   "execution_count": 141,
   "metadata": {
    "collapsed": false
   },
   "outputs": [
    {
     "data": {
      "text/plain": [
       "{u'_id_': {u'key': [(u'_id', 1)], u'ns': u'test.wordsTest3', u'v': 2}}"
      ]
     },
     "execution_count": 141,
     "metadata": {},
     "output_type": "execute_result"
    }
   ],
   "source": [
    "db.wordsTest3.index_information()"
   ]
  },
  {
   "cell_type": "markdown",
   "metadata": {
    "collapsed": true
   },
   "source": [
    "# find all words"
   ]
  },
  {
   "cell_type": "code",
   "execution_count": 146,
   "metadata": {
    "collapsed": true
   },
   "outputs": [],
   "source": [
    "wordList = []\n",
    "for doc in db.wordsTest3.find({}):\n",
    "    wordList.append(doc[\"wordId\"])"
   ]
  },
  {
   "cell_type": "code",
   "execution_count": 147,
   "metadata": {
    "collapsed": false,
    "scrolled": true
   },
   "outputs": [
    {
     "data": {
      "text/plain": [
       "[u'consider',\n",
       " u'minute',\n",
       " u'accord',\n",
       " u'evident',\n",
       " u'practice',\n",
       " u'intend',\n",
       " u'concern',\n",
       " u'commit',\n",
       " u'issue',\n",
       " u'approach',\n",
       " u'establish',\n",
       " u'utter',\n",
       " u'conduct',\n",
       " u'engage',\n",
       " u'obtain',\n",
       " u'scarce',\n",
       " u'policy',\n",
       " u'straight',\n",
       " u'stock',\n",
       " u'apparent',\n",
       " u'property',\n",
       " u'fancy',\n",
       " u'concept',\n",
       " u'court',\n",
       " u'appoint',\n",
       " u'passage',\n",
       " u'vain',\n",
       " u'instance',\n",
       " u'coast',\n",
       " u'project',\n",
       " u'commission',\n",
       " u'constant',\n",
       " u'constitute',\n",
       " u'level',\n",
       " u'affect',\n",
       " u'institute',\n",
       " u'render',\n",
       " u'appeal',\n",
       " u'generate',\n",
       " u'theory',\n",
       " u'range',\n",
       " u'campaign',\n",
       " u'league',\n",
       " u'labor',\n",
       " u'confer',\n",
       " u'grant',\n",
       " u'dwell',\n",
       " u'entertain',\n",
       " u'contract',\n",
       " u'earnest',\n",
       " u'yield',\n",
       " u'wander',\n",
       " u'insist',\n",
       " u'knight',\n",
       " u'convince',\n",
       " u'inspire',\n",
       " u'convention',\n",
       " u'skill',\n",
       " u'harry',\n",
       " u'financial',\n",
       " u'reflect',\n",
       " u'novel',\n",
       " u'furnish',\n",
       " u'compel',\n",
       " u'venture',\n",
       " u'territory',\n",
       " u'temper',\n",
       " u'bent',\n",
       " u'intimate',\n",
       " u'undertake',\n",
       " u'majority',\n",
       " u'assert',\n",
       " u'crew',\n",
       " u'chamber',\n",
       " u'humble',\n",
       " u'scheme',\n",
       " u'keen',\n",
       " u'liberal',\n",
       " u'despair',\n",
       " u'tide',\n",
       " u'attitude',\n",
       " u'justify',\n",
       " u'flag',\n",
       " u'merit',\n",
       " u'manifest',\n",
       " u'notion',\n",
       " u'scale',\n",
       " u'formal',\n",
       " u'resource',\n",
       " u'persist',\n",
       " u'contempt',\n",
       " u'tour',\n",
       " u'plead',\n",
       " u'weigh',\n",
       " u'mode',\n",
       " u'distinction',\n",
       " u'attribute',\n",
       " u'exert',\n",
       " u'oppress',\n",
       " u'contend',\n",
       " u'stake',\n",
       " u'toil',\n",
       " u'perish',\n",
       " u'disposition',\n",
       " u'rail',\n",
       " u'cardinal',\n",
       " u'boast',\n",
       " u'advocate',\n",
       " u'bestow',\n",
       " u'allege',\n",
       " u'notwithstanding',\n",
       " u'lofty',\n",
       " u'multitude',\n",
       " u'steep',\n",
       " u'heed',\n",
       " u'modest',\n",
       " u'partial',\n",
       " u'apt',\n",
       " u'esteem',\n",
       " u'credible',\n",
       " u'provoke',\n",
       " u'tread',\n",
       " u'ascertain',\n",
       " u'fare',\n",
       " u'cede',\n",
       " u'perpetual',\n",
       " u'decree',\n",
       " u'contrive',\n",
       " u'elaborate',\n",
       " u'substantial',\n",
       " u'frontier',\n",
       " u'facile',\n",
       " u'cite',\n",
       " u'warrant',\n",
       " u'sob',\n",
       " u'rider',\n",
       " u'dense',\n",
       " u'afflict',\n",
       " u'flourish',\n",
       " u'ordain',\n",
       " u'pious',\n",
       " u'vex',\n",
       " u'gravity',\n",
       " u'conspicuous',\n",
       " u'retort',\n",
       " u'jet',\n",
       " u'bolt',\n",
       " u'assent',\n",
       " u'purse',\n",
       " u'plus',\n",
       " u'sanction',\n",
       " u'exalt',\n",
       " u'siege',\n",
       " u'malice',\n",
       " u'extravagant',\n",
       " u'wax',\n",
       " u'throng',\n",
       " u'venerate',\n",
       " u'assail',\n",
       " u'sublime',\n",
       " u'exploit',\n",
       " u'exertion',\n",
       " u'kindle',\n",
       " u'endow',\n",
       " u'humiliate',\n",
       " u'suffrage',\n",
       " u'ensue',\n",
       " u'brook',\n",
       " u'gale',\n",
       " u'muse',\n",
       " u'satire',\n",
       " u'intrigue',\n",
       " u'indication',\n",
       " u'dispatch',\n",
       " u'cower',\n",
       " u'wont',\n",
       " u'tract',\n",
       " u'canon',\n",
       " u'impel',\n",
       " u'latitude',\n",
       " u'vacate',\n",
       " u'undertaking',\n",
       " u'slay',\n",
       " u'predecessor',\n",
       " u'delicacy',\n",
       " u'forsake',\n",
       " u'beseech',\n",
       " u'philosophical',\n",
       " u'grove',\n",
       " u'frustrate',\n",
       " u'illustrious',\n",
       " u'device',\n",
       " u'pomp',\n",
       " u'entreat',\n",
       " u'impart',\n",
       " u'propriety',\n",
       " u'consecrate',\n",
       " u'proceeds',\n",
       " u'fathom',\n",
       " u'objective',\n",
       " u'clad',\n",
       " u'partisan',\n",
       " u'faction',\n",
       " u'contrived',\n",
       " u'venerable',\n",
       " u'restrained',\n",
       " u'besiege',\n",
       " u'manifestation',\n",
       " u'rebuke',\n",
       " u'insurgent',\n",
       " u'rhetoric',\n",
       " u'scrupulous',\n",
       " u'ratify',\n",
       " u'stump',\n",
       " u'discreet',\n",
       " u'imposing',\n",
       " u'wistful',\n",
       " u'mortify',\n",
       " u'ripple',\n",
       " u'premise',\n",
       " u'subside',\n",
       " u'adverse',\n",
       " u'caprice',\n",
       " u'muster',\n",
       " u'comprehensive',\n",
       " u'accede',\n",
       " u'fervent',\n",
       " u'cohere',\n",
       " u'tribunal',\n",
       " u'austere',\n",
       " u'stratum',\n",
       " u'conscientious',\n",
       " u'arbitrary',\n",
       " u'exasperate',\n",
       " u'conjure',\n",
       " u'ominous',\n",
       " u'edifice',\n",
       " u'elude',\n",
       " u'pervade',\n",
       " u'foster',\n",
       " u'admonish',\n",
       " u'repeal',\n",
       " u'retiring',\n",
       " u'incidental',\n",
       " u'acquiesce',\n",
       " u'slew',\n",
       " u'usurp',\n",
       " u'sentinel',\n",
       " u'precision',\n",
       " u'depose',\n",
       " u'wanton',\n",
       " u'odium',\n",
       " u'precept',\n",
       " u'deference',\n",
       " u'fray',\n",
       " u'candid',\n",
       " u'enduring',\n",
       " u'impertinent',\n",
       " u'bland',\n",
       " u'insinuate',\n",
       " u'nominal',\n",
       " u'suppliant',\n",
       " u'languid',\n",
       " u'rave',\n",
       " u'monetary',\n",
       " u'headlong',\n",
       " u'infallible',\n",
       " u'coax',\n",
       " u'explicate',\n",
       " u'gaunt',\n",
       " u'morbid',\n",
       " u'pacify',\n",
       " u'pastoral',\n",
       " u'dogged',\n",
       " u'ebb',\n",
       " u'aide',\n",
       " u'appease',\n",
       " u'stipulate',\n",
       " u'recourse',\n",
       " u'bate',\n",
       " u'aversion',\n",
       " u'conceit',\n",
       " u'loath',\n",
       " u'rampart',\n",
       " u'extort',\n",
       " u'tarry',\n",
       " u'perpetrate',\n",
       " u'decorum',\n",
       " u'luxuriant',\n",
       " u'cant',\n",
       " u'enjoin',\n",
       " u'avarice',\n",
       " u'edict',\n",
       " u'disconcert',\n",
       " u'symmetry',\n",
       " u'capitulate',\n",
       " u'arbitrate',\n",
       " u'cleave',\n",
       " u'append',\n",
       " u'visage',\n",
       " u'horde',\n",
       " u'parable',\n",
       " u'chastise',\n",
       " u'foil',\n",
       " u'veritable',\n",
       " u'grapple',\n",
       " u'gentry',\n",
       " u'pall',\n",
       " u'maxim',\n",
       " u'projection',\n",
       " u'prowess',\n",
       " u'dingy',\n",
       " u'semblance',\n",
       " u'tout',\n",
       " u'fortitude',\n",
       " u'asunder',\n",
       " u'rout',\n",
       " u'staid',\n",
       " u'beguile',\n",
       " u'purport',\n",
       " u'deprave',\n",
       " u'bequeath',\n",
       " u'enigma',\n",
       " u'assiduous',\n",
       " u'vassal',\n",
       " u'quail',\n",
       " u'outskirts',\n",
       " u'bulwark',\n",
       " u'swerve',\n",
       " u'gird',\n",
       " u'betrothed',\n",
       " u'prospective',\n",
       " u'advert',\n",
       " u'peremptory',\n",
       " u'rudiment',\n",
       " u'deduce',\n",
       " u'halting',\n",
       " u'ignominy',\n",
       " u'ideology',\n",
       " u'pallid',\n",
       " u'chagrin',\n",
       " u'obtrude',\n",
       " u'audacious',\n",
       " u'construe',\n",
       " u'ford',\n",
       " u'repast',\n",
       " u'stint',\n",
       " u'fresco',\n",
       " u'dutiful',\n",
       " u'hew',\n",
       " u'parity',\n",
       " u'affable',\n",
       " u'interminable',\n",
       " u'pillage',\n",
       " u'foreboding',\n",
       " u'rend',\n",
       " u'livelihood',\n",
       " u'deign',\n",
       " u'capricious',\n",
       " u'stupendous',\n",
       " u'chaff',\n",
       " u'innate',\n",
       " u'reverie',\n",
       " u'wrangle',\n",
       " u'crevice',\n",
       " u'ostensible',\n",
       " u'craven',\n",
       " u'vestige',\n",
       " u'plumb',\n",
       " u'reticent',\n",
       " u'propensity',\n",
       " u'chide',\n",
       " u'espouse',\n",
       " u'raiment',\n",
       " u'intrepid',\n",
       " u'seemly',\n",
       " u'allay',\n",
       " u'fitful',\n",
       " u'erode',\n",
       " u'unaffected',\n",
       " u'canto',\n",
       " u'docile',\n",
       " u'patronize',\n",
       " u'teem',\n",
       " u'estrange',\n",
       " u'spat',\n",
       " u'warble',\n",
       " u'mien',\n",
       " u'sate',\n",
       " u'constituency',\n",
       " u'patrician',\n",
       " u'parry',\n",
       " u'practitioner',\n",
       " u'ravel',\n",
       " u'infest',\n",
       " u'actuate',\n",
       " u'surly',\n",
       " u'convalesce',\n",
       " u'demoralize',\n",
       " u'devolve',\n",
       " u'alacrity',\n",
       " u'waive',\n",
       " u'unwonted',\n",
       " u'seethe',\n",
       " u'scrutinize',\n",
       " u'diffident',\n",
       " u'execrate',\n",
       " u'implacable',\n",
       " u'pique',\n",
       " u'mite',\n",
       " u'encumber',\n",
       " u'uncouth',\n",
       " u'petulant',\n",
       " u'expiate',\n",
       " u'cavalier',\n",
       " u'banter',\n",
       " u'bluster',\n",
       " u'debase',\n",
       " u'retainer',\n",
       " u'subjugate',\n",
       " u'extol',\n",
       " u'fraught',\n",
       " u'august',\n",
       " u'fissure',\n",
       " u'knoll',\n",
       " u'callous',\n",
       " u'inculcate',\n",
       " u'nettle',\n",
       " u'blanch',\n",
       " u'inscrutable',\n",
       " u'tenacious',\n",
       " u'thrall',\n",
       " u'exigency',\n",
       " u'disconsolate',\n",
       " u'impetus',\n",
       " u'imposition',\n",
       " u'auspices',\n",
       " u'sonorous',\n",
       " u'exploitation',\n",
       " u'bane',\n",
       " u'dint',\n",
       " u'ignominious',\n",
       " u'amicable',\n",
       " u'onset',\n",
       " u'conservatory',\n",
       " u'zenith',\n",
       " u'voluble',\n",
       " u'yeoman',\n",
       " u'levity',\n",
       " u'rapt',\n",
       " u'sultry',\n",
       " u'pinion',\n",
       " u'axiom',\n",
       " u'descry',\n",
       " u'retinue',\n",
       " u'functionary',\n",
       " u'imbibe',\n",
       " u'maraud',\n",
       " u'grudging',\n",
       " u'partiality',\n",
       " u'philology',\n",
       " u'wry',\n",
       " u'caucus',\n",
       " u'permeate',\n",
       " u'propitious',\n",
       " u'salient',\n",
       " u'propitiate',\n",
       " u'excise',\n",
       " u'betoken',\n",
       " u'palatable',\n",
       " u'upbraid',\n",
       " u'renegade',\n",
       " u'hoary',\n",
       " u'pedantic',\n",
       " u'coy',\n",
       " u'troth',\n",
       " u'encroachment',\n",
       " u'belie',\n",
       " u'armada',\n",
       " u'succor',\n",
       " u'imperturbable',\n",
       " u'irresolute',\n",
       " u'knack',\n",
       " u'unseemly',\n",
       " u'accentuate',\n",
       " u'divulge',\n",
       " u'brawn',\n",
       " u'burnish',\n",
       " u'palpitate',\n",
       " u'promiscuous',\n",
       " u'dissemble',\n",
       " u'flotilla',\n",
       " u'invective',\n",
       " u'hermitage',\n",
       " u'despoil',\n",
       " u'sully',\n",
       " u'malevolent',\n",
       " u'irksome',\n",
       " u'prattle',\n",
       " u'subaltern',\n",
       " u'welt',\n",
       " u'wreak',\n",
       " u'tenable',\n",
       " u'inimitable',\n",
       " u'depredation',\n",
       " u'amalgamate',\n",
       " u'immutable',\n",
       " u'proxy',\n",
       " u'dote',\n",
       " u'reactionary',\n",
       " u'rationalism',\n",
       " u'endue',\n",
       " u'discriminating',\n",
       " u'brooch',\n",
       " u'pert',\n",
       " u'disembark',\n",
       " u'aria',\n",
       " u'trappings',\n",
       " u'abet',\n",
       " u'clandestine',\n",
       " u'distend',\n",
       " u'glib',\n",
       " u'pucker',\n",
       " u'rejoinder',\n",
       " u'spangle',\n",
       " u'nicety',\n",
       " u'vestment',\n",
       " u'urbane',\n",
       " u'defray',\n",
       " u'spectral',\n",
       " u'munificent',\n",
       " u'dictum',\n",
       " u'fad',\n",
       " u'scabbard',\n",
       " u'adulterate',\n",
       " u'beleaguer',\n",
       " u'gripe',\n",
       " u'remission',\n",
       " u'exorbitant',\n",
       " u'invocation',\n",
       " u'cajole',\n",
       " u'inclusive',\n",
       " u'interdict',\n",
       " u'abase',\n",
       " u'obviate',\n",
       " u'hurtle',\n",
       " u'unanimity',\n",
       " u'mettle',\n",
       " u'interpolate',\n",
       " u'surreptitious',\n",
       " u'dissimulate',\n",
       " u'ruse',\n",
       " u'specious',\n",
       " u'revulsion',\n",
       " u'hale',\n",
       " u'palliate',\n",
       " u'obtuse',\n",
       " u'querulous',\n",
       " u'vagary',\n",
       " u'incipient',\n",
       " u'obdurate',\n",
       " u'grovel',\n",
       " u'refractory',\n",
       " u'dregs',\n",
       " u'ascendancy',\n",
       " u'supercilious',\n",
       " u'pundit',\n",
       " u'commiserate',\n",
       " u'alcove',\n",
       " u'assay',\n",
       " u'parochial',\n",
       " u'conjugal',\n",
       " u'abjure',\n",
       " u'frieze',\n",
       " u'ornate',\n",
       " u'inflammatory',\n",
       " u'machination',\n",
       " u'mendicant',\n",
       " u'meander',\n",
       " u'bullion',\n",
       " u'diffidence',\n",
       " u'makeshift',\n",
       " u'husbandry',\n",
       " u'podium',\n",
       " u'dearth',\n",
       " u'granary',\n",
       " u'whet',\n",
       " u'imposture',\n",
       " u'diadem',\n",
       " u'fallow',\n",
       " u'hubbub',\n",
       " u'dispassionate',\n",
       " u'harrowing',\n",
       " u'askance',\n",
       " u'lancet',\n",
       " u'rankle',\n",
       " u'ramify',\n",
       " u'gainsay',\n",
       " u'polity',\n",
       " u'credence',\n",
       " u'indemnify',\n",
       " u'ingratiate',\n",
       " u'declivity',\n",
       " u'importunate',\n",
       " u'passe',\n",
       " u'whittle',\n",
       " u'repine',\n",
       " u'flay',\n",
       " u'larder',\n",
       " u'threadbare',\n",
       " u'grisly',\n",
       " u'untoward',\n",
       " u'idiosyncrasy',\n",
       " u'quip',\n",
       " u'blatant',\n",
       " u'stanch',\n",
       " u'incongruity',\n",
       " u'perfidious',\n",
       " u'platitude',\n",
       " u'revelry',\n",
       " u'delve',\n",
       " u'extenuate',\n",
       " u'polemic',\n",
       " u'enrapture',\n",
       " u'virtuoso',\n",
       " u'glower',\n",
       " u'mundane',\n",
       " u'fatuous',\n",
       " u'incorrigible',\n",
       " u'postulate',\n",
       " u'gist',\n",
       " u'vociferous',\n",
       " u'purvey',\n",
       " u'baleful',\n",
       " u'dyspeptic',\n",
       " u'prude',\n",
       " u'luminary',\n",
       " u'amenable',\n",
       " u'willful',\n",
       " u'overbearing',\n",
       " u'dais',\n",
       " u'automate',\n",
       " u'enervate',\n",
       " u'wheedle',\n",
       " u'gusto',\n",
       " u'bouillon',\n",
       " u'omniscient',\n",
       " u'apostate',\n",
       " u'carrion',\n",
       " u'emolument',\n",
       " u'ungainly',\n",
       " u'impiety',\n",
       " u'decadence',\n",
       " u'homily',\n",
       " u'avocation',\n",
       " u'circumvent',\n",
       " u'syllogism',\n",
       " u'collation',\n",
       " u'haggle',\n",
       " u'waylay',\n",
       " u'savant',\n",
       " u'cohort',\n",
       " u'unction',\n",
       " u'adjure',\n",
       " u'acrimony',\n",
       " u'clarion',\n",
       " u'turbid',\n",
       " u'cupidity',\n",
       " u'disaffected',\n",
       " u'preternatural',\n",
       " u'eschew',\n",
       " u'expatiate',\n",
       " u'didactic',\n",
       " u'sinuous',\n",
       " u'rancor',\n",
       " u'puissant',\n",
       " u'homespun',\n",
       " u'embroil',\n",
       " u'pathological',\n",
       " u'resonant',\n",
       " u'libretto',\n",
       " u'flail',\n",
       " u'bandy',\n",
       " u'gratis',\n",
       " u'upshot',\n",
       " u'aphorism',\n",
       " u'redoubtable',\n",
       " u'corpulent',\n",
       " u'benighted',\n",
       " u'sententious',\n",
       " u'cabal',\n",
       " u'paraphernalia',\n",
       " u'vitiate',\n",
       " u'adulation',\n",
       " u'quaff',\n",
       " u'unassuming',\n",
       " u'libertine',\n",
       " u'maul',\n",
       " u'adage',\n",
       " u'expostulation',\n",
       " u'tawdry',\n",
       " u'trite',\n",
       " u'hireling',\n",
       " u'ensconce',\n",
       " u'egregious',\n",
       " u'cogent',\n",
       " u'incisive',\n",
       " u'errant',\n",
       " u'sedulous',\n",
       " u'incandescent',\n",
       " u'derelict',\n",
       " u'entomology',\n",
       " u'execrable',\n",
       " u'sluice',\n",
       " u'moot',\n",
       " u'evanescent',\n",
       " u'vat',\n",
       " u'dapper',\n",
       " u'asperity',\n",
       " u'flair',\n",
       " u'mote',\n",
       " u'circumspect',\n",
       " u'inimical',\n",
       " u'apropos',\n",
       " u'gruel',\n",
       " u'gentility',\n",
       " u'disapprobation',\n",
       " u'cameo',\n",
       " u'gouge',\n",
       " u'oratorio',\n",
       " u'inclement',\n",
       " u'scintilla',\n",
       " u'confluence',\n",
       " u'squalor',\n",
       " u'stricture',\n",
       " u'emblazon',\n",
       " u'augury',\n",
       " u'abut',\n",
       " u'banal',\n",
       " u'congeal',\n",
       " u'pilfer',\n",
       " u'malcontent',\n",
       " u'sublimate',\n",
       " u'eugenic',\n",
       " u'lineament',\n",
       " u'firebrand',\n",
       " u'fiasco',\n",
       " u'foolhardy',\n",
       " u'retrench',\n",
       " u'ulterior',\n",
       " u'equable',\n",
       " u'invidious',\n",
       " u'unmitigated',\n",
       " u'concomitant',\n",
       " u'cozen',\n",
       " u'phlegmatic',\n",
       " u'dormer',\n",
       " u'pontifical',\n",
       " u'disport',\n",
       " u'apologist',\n",
       " u'abeyance',\n",
       " u'enclave',\n",
       " u'improvident',\n",
       " u'disquisition',\n",
       " u'categorical',\n",
       " u'placate',\n",
       " u'redolent',\n",
       " u'felicitous',\n",
       " u'gusty',\n",
       " u'natty',\n",
       " u'pacifist',\n",
       " u'buxom',\n",
       " u'heyday',\n",
       " u'herculean',\n",
       " u'burgeon',\n",
       " u'crone',\n",
       " u'prognosticate',\n",
       " u'lout',\n",
       " u'simper',\n",
       " u'iniquitous',\n",
       " u'rile',\n",
       " u'sentient',\n",
       " u'garish',\n",
       " u'readjustment',\n",
       " u'erstwhile',\n",
       " u'aquiline',\n",
       " u'bilious',\n",
       " u'vilify',\n",
       " u'nuance',\n",
       " u'gawk',\n",
       " u'refectory',\n",
       " u'palatial',\n",
       " u'trenchant',\n",
       " u'emboss',\n",
       " u'proletarian',\n",
       " u'careen',\n",
       " u'debacle',\n",
       " u'sycophant',\n",
       " u'crabbed',\n",
       " u'archetype',\n",
       " u'cryptic',\n",
       " u'penchant',\n",
       " u'bauble',\n",
       " u'mountebank',\n",
       " u'fawning',\n",
       " u'hummock',\n",
       " u'apotheosis',\n",
       " u'discretionary',\n",
       " u'pithy',\n",
       " u'comport',\n",
       " u'checkered',\n",
       " u'ambrosia',\n",
       " u'factious',\n",
       " u'disgorge',\n",
       " u'filch',\n",
       " u'wraith',\n",
       " u'demonstrable',\n",
       " u'pertinacious',\n",
       " u'emend',\n",
       " u'laggard',\n",
       " u'waffle',\n",
       " u'loquacious',\n",
       " u'venial',\n",
       " u'peon',\n",
       " u'effulgence',\n",
       " u'lode',\n",
       " u'fanfare',\n",
       " u'dilettante',\n",
       " u'pusillanimous',\n",
       " u'ingrained',\n",
       " u'quagmire',\n",
       " u'reprobation',\n",
       " u'mannered',\n",
       " u'squeamish',\n",
       " u'proclivity',\n",
       " u'miserly',\n",
       " u'vapid',\n",
       " u'mercurial',\n",
       " u'perspicuous',\n",
       " u'nonplus',\n",
       " u'enamor',\n",
       " u'hackneyed',\n",
       " u'spate',\n",
       " u'pedagogue',\n",
       " u'acme',\n",
       " u'masticate',\n",
       " u'sinecure',\n",
       " u'emetic',\n",
       " u'temporize',\n",
       " u'unimpeachable',\n",
       " u'genesis',\n",
       " u'mordant',\n",
       " u'smattering',\n",
       " u'suavity',\n",
       " u'stentorian',\n",
       " u'junket',\n",
       " u'appurtenance',\n",
       " u'nostrum',\n",
       " u'immure',\n",
       " u'astringent',\n",
       " u'unfaltering',\n",
       " u'tutelage',\n",
       " u'testator',\n",
       " u'elysian',\n",
       " u'fulminate',\n",
       " u'fractious',\n",
       " u'pummel',\n",
       " u'manumit',\n",
       " u'unexceptionable',\n",
       " u'triumvirate',\n",
       " u'sybarite',\n",
       " u'jibe',\n",
       " u'magisterial',\n",
       " u'roseate',\n",
       " u'obloquy',\n",
       " u'hoodwink',\n",
       " u'striate',\n",
       " u'arrogate',\n",
       " u'rarefied',\n",
       " u'chary',\n",
       " u'credo',\n",
       " u'superannuated',\n",
       " u'impolitic',\n",
       " u'aspersion',\n",
       " u'abysmal',\n",
       " u'poignancy',\n",
       " u'stilted',\n",
       " u'effete',\n",
       " u'provender',\n",
       " u'endemic',\n",
       " u'jocund',\n",
       " u'procedural',\n",
       " u'rakish',\n",
       " u'skittish',\n",
       " u'peroration',\n",
       " u'nonentity',\n",
       " u'abstemious',\n",
       " u'viscid',\n",
       " u'doggerel',\n",
       " u'sleight',\n",
       " u'rubric',\n",
       " u'plenitude',\n",
       " u'rebus',\n",
       " u'wizened',\n",
       " u'whorl',\n",
       " u'fracas',\n",
       " u'iconoclast',\n",
       " u'saturnine',\n",
       " u'madrigal',\n",
       " u'discursive',\n",
       " u'zealot',\n",
       " u'moribund',\n",
       " u'modicum',\n",
       " u'connotation',\n",
       " u'adventitious',\n",
       " u'recondite',\n",
       " u'zephyr',\n",
       " u'countermand',\n",
       " u'captious',\n",
       " u'cognate',\n",
       " u'forebear',\n",
       " u'cadaverous',\n",
       " u'foist',\n",
       " u'dotage',\n",
       " u'nexus',\n",
       " u'choleric',\n",
       " u'garble',\n",
       " u'bucolic',\n",
       " u'denouement',\n",
       " u'animus',\n",
       " u'overweening',\n",
       " u'tyro',\n",
       " u'preen',\n",
       " u'largesse',\n",
       " u'retentive',\n",
       " u'unconscionable',\n",
       " u'badinage',\n",
       " u'insensate',\n",
       " u'sherbet',\n",
       " u'beatific',\n",
       " u'bemuse',\n",
       " u'microcosm',\n",
       " u'factitious',\n",
       " u'gestate',\n",
       " u'traduce',\n",
       " u'sextant',\n",
       " u'coiffure',\n",
       " u'malleable',\n",
       " u'rococo',\n",
       " u'fructify',\n",
       " u'nihilist',\n",
       " u'ellipsis',\n",
       " u'accolade',\n",
       " u'codicil',\n",
       " u'roil',\n",
       " u'grandiloquent',\n",
       " u'inconsequential',\n",
       " u'effervescence',\n",
       " u'stultify',\n",
       " u'tureen',\n",
       " u'pellucid',\n",
       " u'euphony',\n",
       " u'apocryphal',\n",
       " u'veracious',\n",
       " u'pendulous',\n",
       " u'exegesis',\n",
       " u'effluvium',\n",
       " u'apposite',\n",
       " u'viscous',\n",
       " u'misanthrope',\n",
       " u'vintner',\n",
       " u'halcyon',\n",
       " u'anthropomorphic',\n",
       " u'turgid',\n",
       " u'malaise',\n",
       " u'polemical',\n",
       " u'gadfly',\n",
       " u'contusion',\n",
       " u'parsimonious',\n",
       " u'dulcet',\n",
       " u'reprise',\n",
       " u'anodyne']"
      ]
     },
     "execution_count": 147,
     "metadata": {},
     "output_type": "execute_result"
    }
   ],
   "source": [
    "wordList"
   ]
  },
  {
   "cell_type": "code",
   "execution_count": null,
   "metadata": {
    "collapsed": true
   },
   "outputs": [],
   "source": []
  },
  {
   "cell_type": "code",
   "execution_count": 148,
   "metadata": {
    "collapsed": true
   },
   "outputs": [],
   "source": [
    "import glob"
   ]
  },
  {
   "cell_type": "code",
   "execution_count": 149,
   "metadata": {
    "collapsed": true
   },
   "outputs": [],
   "source": [
    "mp3_dir = \"/Users/NoSlack/Applications/wordCraze/wordList/static\""
   ]
  },
  {
   "cell_type": "code",
   "execution_count": 151,
   "metadata": {
    "collapsed": false
   },
   "outputs": [],
   "source": [
    "mp3_list = glob.glob(mp3_dir + \"/*.mp3\")"
   ]
  },
  {
   "cell_type": "code",
   "execution_count": 152,
   "metadata": {
    "collapsed": true
   },
   "outputs": [],
   "source": [
    "import os"
   ]
  },
  {
   "cell_type": "code",
   "execution_count": 155,
   "metadata": {
    "collapsed": true
   },
   "outputs": [],
   "source": [
    "wordListMp3 = [os.path.basename(name)[:-4] for name in mp3_list]"
   ]
  },
  {
   "cell_type": "code",
   "execution_count": 160,
   "metadata": {
    "collapsed": false
   },
   "outputs": [],
   "source": [
    "bothMp3AndSenList = '\\n'.join(list(set(wordListMp3).intersection(set(wordList))))"
   ]
  },
  {
   "cell_type": "code",
   "execution_count": 161,
   "metadata": {
    "collapsed": true
   },
   "outputs": [],
   "source": [
    "with open(\"./bothMp3AndSenList.txt\", \"w\") as f:\n",
    "    f.write(bothMp3AndSenList)"
   ]
  },
  {
   "cell_type": "code",
   "execution_count": null,
   "metadata": {
    "collapsed": true
   },
   "outputs": [],
   "source": []
  }
 ],
 "metadata": {
  "kernelspec": {
   "display_name": "Python 2",
   "language": "python",
   "name": "python2"
  },
  "language_info": {
   "codemirror_mode": {
    "name": "ipython",
    "version": 2
   },
   "file_extension": ".py",
   "mimetype": "text/x-python",
   "name": "python",
   "nbconvert_exporter": "python",
   "pygments_lexer": "ipython2",
   "version": "2.7.13"
  },
  "widgets": {
   "state": {
    "fdd2c8b762794cbc9531f0b50f63e7f6": {
     "views": [
      {
       "cell_index": 26
      }
     ]
    }
   },
   "version": "1.2.0"
  }
 },
 "nbformat": 4,
 "nbformat_minor": 2
}
